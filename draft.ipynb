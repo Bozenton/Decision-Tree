{
 "cells": [
  {
   "cell_type": "code",
   "execution_count": 1,
   "metadata": {},
   "outputs": [],
   "source": [
    "import numpy as np\n",
    "import pandas as pd\n",
    "import matplotlib.pyplot as plt"
   ]
  },
  {
   "cell_type": "code",
   "execution_count": 2,
   "metadata": {},
   "outputs": [],
   "source": [
    "def entropy(pmf, epsilon=1e-4):\n",
    "    try:\n",
    "        pmf = np.array(pmf)\n",
    "        mask = pmf>epsilon\n",
    "        pmf = pmf[mask]  # 0log0 = 0\n",
    "        return -1.0 * np.dot(pmf, np.log2(pmf))\n",
    "    except TypeError as te:\n",
    "        print(pmf, \"is not iterable\")\n",
    "\n",
    "# a = np.linspace(0, 1, 100)\n",
    "# b = np.zeros(a.shape)\n",
    "# for i, e in enumerate(a):\n",
    "#     b[i] = entropy([e, 1-e])\n",
    "# fig = plt.figure()\n",
    "# plt.plot(a, b)\n",
    "# plt.show()\n",
    "\n",
    "def conditionalEntropy(cond_p, pmfs):\n",
    "    assert len(cond_p) == len(pmfs)\n",
    "    result = 0\n",
    "    for i, p in enumerate(cond_p):\n",
    "        result += p*entropy(pmfs[i, :])\n",
    "    return result\n",
    "    \n",
    "\n",
    "def empiricalEntropy(label: pd.Series):\n",
    "    pmf = label.value_counts().values / label.count()\n",
    "    return entropy(pmf)\n",
    "\n",
    "def empiricalConditionalEntropy(label: pd.Series, feature: pd.Series):\n",
    "    assert label.count() == feature.count(), \\\n",
    "        \"The length of label and feature should be the same when computing empirical conditional entropy\"\n",
    "    df = pd.DataFrame({'label':label, 'feature': feature})\n",
    "    feature_values = feature.unique()  # get all distinct feature values\n",
    "    result = 0\n",
    "    for i, value in enumerate(feature_values):\n",
    "        df_filtered = df.query('feature==@value')   # filter by feature value\n",
    "        label_filtered = df_filtered['label']\n",
    "        ee = empiricalEntropy(label_filtered)\n",
    "        cond_p = feature.value_counts()[value]/feature.count()\n",
    "        result += cond_p*ee\n",
    "    return result"
   ]
  },
  {
   "cell_type": "code",
   "execution_count": 9,
   "metadata": {},
   "outputs": [
    {
     "data": {
      "text/plain": [
       "0.36298956253708536"
      ]
     },
     "execution_count": 9,
     "metadata": {},
     "output_type": "execute_result"
    }
   ],
   "source": [
    "df = pd.read_csv('./test_data.csv', delimiter=',')\n",
    "label = df['type']\n",
    "empiricalEntropy(label)\n",
    "empiricalConditionalEntropy(label=df['type'], feature=df['age'])\n",
    "empiricalEntropy(label) - empiricalConditionalEntropy(label=df['type'], feature=df['work'])\n",
    "empiricalEntropy(label) - empiricalConditionalEntropy(label=df['type'], feature=df['house'])\n",
    "empiricalEntropy(label) - empiricalConditionalEntropy(label=df['type'], feature=df['credit'])"
   ]
  },
  {
   "cell_type": "code",
   "execution_count": 10,
   "metadata": {},
   "outputs": [
    {
     "name": "stdout",
     "output_type": "stream",
     "text": [
      "graph LR\n",
      "root--root-->a(house)\n",
      "a(house)--house==0-->a0(work)\n",
      "a0(work)--work==0-->a00('0')\n",
      "a0(work)--work==1-->a01('1')\n",
      "a(house)--house==1-->a1('1')\n",
      "\n"
     ]
    }
   ],
   "source": [
    "class Node():\n",
    "    def __init__(self, label=None, parent=None, children=None):\n",
    "        self.parent = parent\n",
    "        self.children = children\n",
    "        self.label = label  \n",
    "        self.leaf_label = None\n",
    "        self.test_cond = None   # test condition of each internal node is here\n",
    "                                # list of str (used in pd.DataFrame.query)\n",
    "    \n",
    "    def __str__(self, level=0):\n",
    "        if not self.children:\n",
    "            ret = \"\\t\"*level + repr(self.leaf_label) + \"\\n\"\n",
    "        else:\n",
    "            ret = \"\\t\"*level + repr(self.label) + \"\\n\"\n",
    "        if self.children:\n",
    "            for child in self.children:\n",
    "                ret += child.__str__(level+1)\n",
    "        return ret\n",
    "    \n",
    "    def mermaid(self):\n",
    "        ss = self.gen_mermaid()\n",
    "        ss = 'graph LR\\nroot' + ss\n",
    "        return ss\n",
    "    \n",
    "    def gen_mermaid(self, prefix='a'):\n",
    "        if not self.children:\n",
    "            ret = \"--\" + self.label + \"-->\" + prefix + \"(\" + repr(self.leaf_label) + \")\\n\"\n",
    "        else:\n",
    "            ret = \"--\" + self.label + \"-->\" + prefix + \"(\" + self.test_cond[0].split('==')[0] + \")\\n\" \n",
    "        if self.children:\n",
    "            for j, child in enumerate(self.children):\n",
    "                ret += prefix + \"(\"+self.test_cond[0].split('==')[0]+\")\"\n",
    "                ret += child.gen_mermaid(prefix+str(j))\n",
    "        return ret\n",
    "    \n",
    "    \n",
    "class DecisionTree():\n",
    "    def __init__(self, train_data: pd.DataFrame, \n",
    "                    stop_threshold=1e-2):\n",
    "        \n",
    "        # pd.DataFrame.attrs should contain whether each column is discrete or not\n",
    "        for c in train_data.columns.values:\n",
    "            if c not in train_data.attrs.keys():\n",
    "                raise ValueError(\"Input data (pd.DataFrame) should contain whether each column is discrete or not\")\n",
    "        \n",
    "        self.stop_threshold = stop_threshold\n",
    "        self.root = self.grow(train_data)\n",
    "        self.root.label = 'root'\n",
    "\n",
    "    def grow(self, data:pd.DataFrame):\n",
    "        if self.stopping_condition(data):\n",
    "            # finnally we reach the leaf\n",
    "            leaf = Node()\n",
    "            leaf.leaf_label = self.classify(data)\n",
    "            return leaf\n",
    "        else:\n",
    "            root = Node(label=None, children=list())\n",
    "            root.test_cond, attr = self.find_best_split(data)\n",
    "            for lb in root.test_cond:\n",
    "                assert type(lb) is str\n",
    "                sub_data = data.query(lb)\n",
    "                if sub_data.empty:\n",
    "                    continue\n",
    "                sub_data = sub_data.drop(columns=[attr])  # this attribute has been used this time\n",
    "                child = self.grow(sub_data)\n",
    "                child.parent = root\n",
    "                child.label = lb\n",
    "                root.children.append(child)\n",
    "        return root\n",
    "\n",
    "    def check_discrete(self, data: pd.DataFrame, col: str):\n",
    "        return data.attrs[col]\n",
    "\n",
    "    def stopping_condition(self, data:pd.DataFrame):\n",
    "        assert len(data.columns.values) > 0, \"Cannot find the label column\"\n",
    "        if len(data.columns.values) == 1:   # the last one column is the label of each sample\n",
    "            # all attributes have been used, thus stop\n",
    "            return True\n",
    "        if data.iloc[:,-1].nunique() == 1:\n",
    "            return True\n",
    "        max_info_gain, _, _ = self.find_largest_info_gain(data)\n",
    "        # print(max_info_gain)\n",
    "        if max_info_gain < self.stop_threshold:\n",
    "            return True\n",
    "        \n",
    "        return False\n",
    "\n",
    "    def find_best_split(self, data:pd.DataFrame):\n",
    "        # select the attribute with largest information gain\n",
    "        _, attr_with_max_info_gain, attr_discrete = self.find_largest_info_gain(data)\n",
    "        if attr_discrete:\n",
    "            # for example, if available values for attr 'A' is [0, 1 ,2], then cond = ['A==0', 'A==1', 'A==2']\n",
    "            cond = [attr_with_max_info_gain+'=='+str(i) for i in data[attr_with_max_info_gain].unique()]\n",
    "        else:\n",
    "            raise ValueError(\"Continuous data is not available now\")\n",
    "        return cond, attr_with_max_info_gain\n",
    "    \n",
    "    def find_largest_info_gain(self, data:pd.DataFrame):\n",
    "        \"\"\" select the attribute with largest information gain\n",
    "\n",
    "        Args:\n",
    "            data (pd.DataFrame): data with label in the last column\n",
    "\n",
    "        Returns:\n",
    "            float: attr_with_max_info_gain, max_info_gain, attr_discrete\n",
    "        \"\"\"\n",
    "        max_info_gain = -np.inf\n",
    "        for col in data.columns.values[:-1]: # the last column is the label, thus ignore it\n",
    "            discrete = self.check_discrete(data, col)\n",
    "            if discrete:\n",
    "                info_gain = empiricalEntropy(data.iloc[:, -1]) - \\\n",
    "                            empiricalConditionalEntropy(label=data.iloc[:, -1], feature=data[col])\n",
    "            else:\n",
    "                raise ValueError(\"Continuous data is not available now\")\n",
    "            # get largest info gain\n",
    "            if info_gain > max_info_gain:\n",
    "                max_info_gain = info_gain\n",
    "                attr_with_max_info_gain = col\n",
    "                attr_discrete = discrete\n",
    "        return max_info_gain, attr_with_max_info_gain, attr_discrete\n",
    "        \n",
    "    def classify(self, data:pd.DataFrame):\n",
    "        return str(data.iloc[:,-1].mode().values[0])\n",
    "\n",
    "dataframe = pd.read_csv('./test_data.csv', delimiter=',')\n",
    "dataframe.attrs =dict(zip(dataframe.columns.values, [True, True, True, True, True]))\n",
    "tree = DecisionTree(dataframe)\n",
    "\n",
    "print(tree.root.mermaid())"
   ]
  },
  {
   "cell_type": "code",
   "execution_count": 6,
   "metadata": {},
   "outputs": [
    {
     "data": {
      "text/plain": [
       "(0.9576351984400187, 'credit', True)"
      ]
     },
     "execution_count": 6,
     "metadata": {},
     "output_type": "execute_result"
    }
   ],
   "source": [
    "tree.find_largest_info_gain(dataframe)"
   ]
  },
  {
   "cell_type": "code",
   "execution_count": 74,
   "metadata": {},
   "outputs": [
    {
     "data": {
      "text/plain": [
       "True"
      ]
     },
     "execution_count": 74,
     "metadata": {},
     "output_type": "execute_result"
    }
   ],
   "source": [
    "df = pd.read_csv('./test_data.csv', delimiter=',')\n",
    "df.attrs =dict(zip(df.columns.values, [True, True, True, True, True]))\n",
    "ss = df.drop(columns=['credit'])\n",
    "ss = df.query('work==5')\n",
    "ss.empty"
   ]
  },
  {
   "cell_type": "markdown",
   "metadata": {},
   "source": [
    "   1. sepal length in cm\n",
    "   2. sepal width in cm\n",
    "   3. petal length in cm\n",
    "   4. petal width in cm\n",
    "   5. class: "
   ]
  },
  {
   "cell_type": "code",
   "execution_count": 13,
   "metadata": {},
   "outputs": [
    {
     "data": {
      "text/html": [
       "<div>\n",
       "<style scoped>\n",
       "    .dataframe tbody tr th:only-of-type {\n",
       "        vertical-align: middle;\n",
       "    }\n",
       "\n",
       "    .dataframe tbody tr th {\n",
       "        vertical-align: top;\n",
       "    }\n",
       "\n",
       "    .dataframe thead th {\n",
       "        text-align: right;\n",
       "    }\n",
       "</style>\n",
       "<table border=\"1\" class=\"dataframe\">\n",
       "  <thead>\n",
       "    <tr style=\"text-align: right;\">\n",
       "      <th></th>\n",
       "      <th>sepal length</th>\n",
       "      <th>sepal width</th>\n",
       "      <th>petal length</th>\n",
       "      <th>petal width</th>\n",
       "      <th>class</th>\n",
       "    </tr>\n",
       "  </thead>\n",
       "  <tbody>\n",
       "    <tr>\n",
       "      <th>0</th>\n",
       "      <td>5.1</td>\n",
       "      <td>3.5</td>\n",
       "      <td>1.4</td>\n",
       "      <td>0.2</td>\n",
       "      <td>Iris-setosa</td>\n",
       "    </tr>\n",
       "    <tr>\n",
       "      <th>1</th>\n",
       "      <td>4.9</td>\n",
       "      <td>3.0</td>\n",
       "      <td>1.4</td>\n",
       "      <td>0.2</td>\n",
       "      <td>Iris-setosa</td>\n",
       "    </tr>\n",
       "    <tr>\n",
       "      <th>2</th>\n",
       "      <td>4.7</td>\n",
       "      <td>3.2</td>\n",
       "      <td>1.3</td>\n",
       "      <td>0.2</td>\n",
       "      <td>Iris-setosa</td>\n",
       "    </tr>\n",
       "    <tr>\n",
       "      <th>3</th>\n",
       "      <td>4.6</td>\n",
       "      <td>3.1</td>\n",
       "      <td>1.5</td>\n",
       "      <td>0.2</td>\n",
       "      <td>Iris-setosa</td>\n",
       "    </tr>\n",
       "    <tr>\n",
       "      <th>4</th>\n",
       "      <td>5.0</td>\n",
       "      <td>3.6</td>\n",
       "      <td>1.4</td>\n",
       "      <td>0.2</td>\n",
       "      <td>Iris-setosa</td>\n",
       "    </tr>\n",
       "    <tr>\n",
       "      <th>...</th>\n",
       "      <td>...</td>\n",
       "      <td>...</td>\n",
       "      <td>...</td>\n",
       "      <td>...</td>\n",
       "      <td>...</td>\n",
       "    </tr>\n",
       "    <tr>\n",
       "      <th>145</th>\n",
       "      <td>6.7</td>\n",
       "      <td>3.0</td>\n",
       "      <td>5.2</td>\n",
       "      <td>2.3</td>\n",
       "      <td>Iris-virginica</td>\n",
       "    </tr>\n",
       "    <tr>\n",
       "      <th>146</th>\n",
       "      <td>6.3</td>\n",
       "      <td>2.5</td>\n",
       "      <td>5.0</td>\n",
       "      <td>1.9</td>\n",
       "      <td>Iris-virginica</td>\n",
       "    </tr>\n",
       "    <tr>\n",
       "      <th>147</th>\n",
       "      <td>6.5</td>\n",
       "      <td>3.0</td>\n",
       "      <td>5.2</td>\n",
       "      <td>2.0</td>\n",
       "      <td>Iris-virginica</td>\n",
       "    </tr>\n",
       "    <tr>\n",
       "      <th>148</th>\n",
       "      <td>6.2</td>\n",
       "      <td>3.4</td>\n",
       "      <td>5.4</td>\n",
       "      <td>2.3</td>\n",
       "      <td>Iris-virginica</td>\n",
       "    </tr>\n",
       "    <tr>\n",
       "      <th>149</th>\n",
       "      <td>5.9</td>\n",
       "      <td>3.0</td>\n",
       "      <td>5.1</td>\n",
       "      <td>1.8</td>\n",
       "      <td>Iris-virginica</td>\n",
       "    </tr>\n",
       "  </tbody>\n",
       "</table>\n",
       "<p>150 rows × 5 columns</p>\n",
       "</div>"
      ],
      "text/plain": [
       "     sepal length  sepal width  petal length  petal width           class\n",
       "0             5.1          3.5           1.4          0.2     Iris-setosa\n",
       "1             4.9          3.0           1.4          0.2     Iris-setosa\n",
       "2             4.7          3.2           1.3          0.2     Iris-setosa\n",
       "3             4.6          3.1           1.5          0.2     Iris-setosa\n",
       "4             5.0          3.6           1.4          0.2     Iris-setosa\n",
       "..            ...          ...           ...          ...             ...\n",
       "145           6.7          3.0           5.2          2.3  Iris-virginica\n",
       "146           6.3          2.5           5.0          1.9  Iris-virginica\n",
       "147           6.5          3.0           5.2          2.0  Iris-virginica\n",
       "148           6.2          3.4           5.4          2.3  Iris-virginica\n",
       "149           5.9          3.0           5.1          1.8  Iris-virginica\n",
       "\n",
       "[150 rows x 5 columns]"
      ]
     },
     "execution_count": 13,
     "metadata": {},
     "output_type": "execute_result"
    }
   ],
   "source": [
    "data_path = '.\\data\\iris.data'\n",
    "iris_data = pd.read_csv(data_path, \n",
    "        names=['sepal length', 'sepal width', 'petal length', 'petal width', 'class'], \n",
    "        delimiter=',')\n",
    "iris_data"
   ]
  },
  {
   "cell_type": "code",
   "execution_count": 31,
   "metadata": {},
   "outputs": [
    {
     "data": {
      "image/png": "[encoded data removed]",
      "text/plain": [
       "<Figure size 720x600 with 4 Axes>"
      ]
     },
     "metadata": {
      "needs_background": "light"
     },
     "output_type": "display_data"
    }
   ],
   "source": [
    "fig, axs = plt.subplots(2,2, figsize=(6, 5), dpi=120)\n",
    "bins = [10,10,10,10]\n",
    "for i in range(2):\n",
    "    for j in range(2):\n",
    "        ax = axs[i, j]\n",
    "        ax.hist(iris_data.iloc[:, i*2+j].values, bins=bins[i*2+j], linewidth=0.5, edgecolor=\"white\")\n",
    "plt.show()\n"
   ]
  },
  {
   "cell_type": "code",
   "execution_count": 33,
   "metadata": {},
   "outputs": [
    {
     "data": {
      "text/plain": [
       "KMeans()"
      ]
     },
     "execution_count": 33,
     "metadata": {},
     "output_type": "execute_result"
    }
   ],
   "source": [
    "class Kmeans1d():\n",
    "    def __init__(self):\n",
    "        pass\n",
    "    \n",
    "    def fit(self, data: np.ndarray, k, epsilon=1e-2):\n",
    "        assert len(data.shape) == 1, \"The input data of Kmeans1d should be 1 dim\"\n",
    "        # initialization\n",
    "        low_boundary = np.min(data)\n",
    "        up_boundary = np.max(data)\n",
    "        center_point = np.linspace(low_boundary, up_boundary, )\n",
    "        \n",
    "\n"
   ]
  },
  {
   "cell_type": "code",
   "execution_count": 35,
   "metadata": {},
   "outputs": [
    {
     "data": {
      "text/plain": [
       "(3,)"
      ]
     },
     "execution_count": 35,
     "metadata": {},
     "output_type": "execute_result"
    }
   ],
   "source": [
    "a = np."
   ]
  }
 ],
 "metadata": {
  "interpreter": {
   "hash": "3503c772228f865e9046df7a3dbfa9a4744f3356461e8184ac67bd899f2dd09f"
  },
  "kernelspec": {
   "display_name": "Python 3.7.11 ('torchCPU')",
   "language": "python",
   "name": "python3"
  },
  "language_info": {
   "codemirror_mode": {
    "name": "ipython",
    "version": 3
   },
   "file_extension": ".py",
   "mimetype": "text/x-python",
   "name": "python",
   "nbconvert_exporter": "python",
   "pygments_lexer": "ipython3",
   "version": "3.7.11"
  },
  "orig_nbformat": 4
 },
 "nbformat": 4,
 "nbformat_minor": 2
}
