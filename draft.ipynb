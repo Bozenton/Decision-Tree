{
 "cells": [
  {
   "cell_type": "code",
   "execution_count": 1,
   "metadata": {},
   "outputs": [],
   "source": [
    "import numpy as np\n",
    "import pandas as pd\n",
    "import matplotlib.pyplot as plt"
   ]
  },
  {
   "cell_type": "code",
   "execution_count": 2,
   "metadata": {},
   "outputs": [],
   "source": [
    "def entropy(pmf, epsilon=1e-4):\n",
    "    try:\n",
    "        pmf = np.array(pmf)\n",
    "        mask = pmf>epsilon\n",
    "        pmf = pmf[mask]  # 0log0 = 0\n",
    "        return -1.0 * np.dot(pmf, np.log2(pmf))\n",
    "    except TypeError as te:\n",
    "        print(pmf, \"is not iterable\")\n",
    "\n",
    "# a = np.linspace(0, 1, 100)\n",
    "# b = np.zeros(a.shape)\n",
    "# for i, e in enumerate(a):\n",
    "#     b[i] = entropy([e, 1-e])\n",
    "# fig = plt.figure()\n",
    "# plt.plot(a, b)\n",
    "# plt.show()\n",
    "\n",
    "def conditionalEntropy(cond_p, pmfs):\n",
    "    assert len(cond_p) == len(pmfs)\n",
    "    result = 0\n",
    "    for i, p in enumerate(cond_p):\n",
    "        result += p*entropy(pmfs[i, :])\n",
    "    return result\n",
    "    \n",
    "\n",
    "def empiricalEntropy(label: pd.Series):\n",
    "    pmf = label.value_counts().values / label.count()\n",
    "    return entropy(pmf)\n",
    "\n",
    "def empiricalConditionalEntropy(label: pd.Series, feature: pd.Series):\n",
    "    assert label.count() == feature.count(), \\\n",
    "        \"The length of label and feature should be the same when computing empirical conditional entropy\"\n",
    "    df = pd.DataFrame({'label':label, 'feature': feature})\n",
    "    feature_values = feature.unique()  # get all distinct feature values\n",
    "    result = 0\n",
    "    for i, value in enumerate(feature_values):\n",
    "        df_filtered = df.query('feature==@value')   # filter by feature value\n",
    "        label_filtered = df_filtered['label']\n",
    "        ee = empiricalEntropy(label_filtered)\n",
    "        cond_p = feature.value_counts()[value]/feature.count()\n",
    "        result += cond_p*ee\n",
    "    return result"
   ]
  },
  {
   "cell_type": "code",
   "execution_count": 3,
   "metadata": {},
   "outputs": [
    {
     "data": {
      "text/plain": [
       "0.36298956253708536"
      ]
     },
     "execution_count": 3,
     "metadata": {},
     "output_type": "execute_result"
    }
   ],
   "source": [
    "df = pd.read_csv('./test_data.csv', delimiter=',')\n",
    "label = df['type']\n",
    "empiricalEntropy(label)\n",
    "empiricalConditionalEntropy(label=df['type'], feature=df['age'])\n",
    "empiricalEntropy(label) - empiricalConditionalEntropy(label=df['type'], feature=df['work'])\n",
    "empiricalEntropy(label) - empiricalConditionalEntropy(label=df['type'], feature=df['house'])\n",
    "empiricalEntropy(label) - empiricalConditionalEntropy(label=df['type'], feature=df['credit'])"
   ]
  },
  {
   "cell_type": "code",
   "execution_count": 21,
   "metadata": {},
   "outputs": [
    {
     "data": {
      "text/html": [
       "<div>\n",
       "<style scoped>\n",
       "    .dataframe tbody tr th:only-of-type {\n",
       "        vertical-align: middle;\n",
       "    }\n",
       "\n",
       "    .dataframe tbody tr th {\n",
       "        vertical-align: top;\n",
       "    }\n",
       "\n",
       "    .dataframe thead th {\n",
       "        text-align: right;\n",
       "    }\n",
       "</style>\n",
       "<table border=\"1\" class=\"dataframe\">\n",
       "  <thead>\n",
       "    <tr style=\"text-align: right;\">\n",
       "      <th></th>\n",
       "      <th>sepal length</th>\n",
       "      <th>sepal width</th>\n",
       "      <th>petal length</th>\n",
       "      <th>petal width</th>\n",
       "      <th>class</th>\n",
       "    </tr>\n",
       "  </thead>\n",
       "  <tbody>\n",
       "    <tr>\n",
       "      <th>0</th>\n",
       "      <td>5.1</td>\n",
       "      <td>3.5</td>\n",
       "      <td>1.4</td>\n",
       "      <td>0.2</td>\n",
       "      <td>Iris-setosa</td>\n",
       "    </tr>\n",
       "    <tr>\n",
       "      <th>1</th>\n",
       "      <td>4.9</td>\n",
       "      <td>3.0</td>\n",
       "      <td>1.4</td>\n",
       "      <td>0.2</td>\n",
       "      <td>Iris-setosa</td>\n",
       "    </tr>\n",
       "    <tr>\n",
       "      <th>2</th>\n",
       "      <td>4.7</td>\n",
       "      <td>3.2</td>\n",
       "      <td>1.3</td>\n",
       "      <td>0.2</td>\n",
       "      <td>Iris-setosa</td>\n",
       "    </tr>\n",
       "    <tr>\n",
       "      <th>3</th>\n",
       "      <td>4.6</td>\n",
       "      <td>3.1</td>\n",
       "      <td>1.5</td>\n",
       "      <td>0.2</td>\n",
       "      <td>Iris-setosa</td>\n",
       "    </tr>\n",
       "    <tr>\n",
       "      <th>4</th>\n",
       "      <td>5.0</td>\n",
       "      <td>3.6</td>\n",
       "      <td>1.4</td>\n",
       "      <td>0.2</td>\n",
       "      <td>Iris-setosa</td>\n",
       "    </tr>\n",
       "    <tr>\n",
       "      <th>...</th>\n",
       "      <td>...</td>\n",
       "      <td>...</td>\n",
       "      <td>...</td>\n",
       "      <td>...</td>\n",
       "      <td>...</td>\n",
       "    </tr>\n",
       "    <tr>\n",
       "      <th>145</th>\n",
       "      <td>6.7</td>\n",
       "      <td>3.0</td>\n",
       "      <td>5.2</td>\n",
       "      <td>2.3</td>\n",
       "      <td>Iris-virginica</td>\n",
       "    </tr>\n",
       "    <tr>\n",
       "      <th>146</th>\n",
       "      <td>6.3</td>\n",
       "      <td>2.5</td>\n",
       "      <td>5.0</td>\n",
       "      <td>1.9</td>\n",
       "      <td>Iris-virginica</td>\n",
       "    </tr>\n",
       "    <tr>\n",
       "      <th>147</th>\n",
       "      <td>6.5</td>\n",
       "      <td>3.0</td>\n",
       "      <td>5.2</td>\n",
       "      <td>2.0</td>\n",
       "      <td>Iris-virginica</td>\n",
       "    </tr>\n",
       "    <tr>\n",
       "      <th>148</th>\n",
       "      <td>6.2</td>\n",
       "      <td>3.4</td>\n",
       "      <td>5.4</td>\n",
       "      <td>2.3</td>\n",
       "      <td>Iris-virginica</td>\n",
       "    </tr>\n",
       "    <tr>\n",
       "      <th>149</th>\n",
       "      <td>5.9</td>\n",
       "      <td>3.0</td>\n",
       "      <td>5.1</td>\n",
       "      <td>1.8</td>\n",
       "      <td>Iris-virginica</td>\n",
       "    </tr>\n",
       "  </tbody>\n",
       "</table>\n",
       "<p>150 rows × 5 columns</p>\n",
       "</div>"
      ],
      "text/plain": [
       "     sepal length  sepal width  petal length  petal width           class\n",
       "0             5.1          3.5           1.4          0.2     Iris-setosa\n",
       "1             4.9          3.0           1.4          0.2     Iris-setosa\n",
       "2             4.7          3.2           1.3          0.2     Iris-setosa\n",
       "3             4.6          3.1           1.5          0.2     Iris-setosa\n",
       "4             5.0          3.6           1.4          0.2     Iris-setosa\n",
       "..            ...          ...           ...          ...             ...\n",
       "145           6.7          3.0           5.2          2.3  Iris-virginica\n",
       "146           6.3          2.5           5.0          1.9  Iris-virginica\n",
       "147           6.5          3.0           5.2          2.0  Iris-virginica\n",
       "148           6.2          3.4           5.4          2.3  Iris-virginica\n",
       "149           5.9          3.0           5.1          1.8  Iris-virginica\n",
       "\n",
       "[150 rows x 5 columns]"
      ]
     },
     "execution_count": 21,
     "metadata": {},
     "output_type": "execute_result"
    }
   ],
   "source": [
    "data_path = '.\\data\\iris.data'\n",
    "iris_raw_data = pd.read_csv(data_path, \n",
    "        names=['sepal length', 'sepal width', 'petal length', 'petal width', 'class'], \n",
    "        delimiter=',')\n",
    "iris_raw_data"
   ]
  },
  {
   "cell_type": "code",
   "execution_count": 36,
   "metadata": {},
   "outputs": [
    {
     "data": {
      "text/plain": [
       "{'sepal length': False,\n",
       " 'sepal width': False,\n",
       " 'petal length': False,\n",
       " 'petal width': False,\n",
       " 'class': False}"
      ]
     },
     "execution_count": 36,
     "metadata": {},
     "output_type": "execute_result"
    }
   ],
   "source": [
    "\n",
    "iris_data = iris_raw_data.copy()\n",
    "iris_data['class'], mapping_dict= iris_raw_data['class'].factorize()\n",
    "iris_data.attrs =dict(zip(iris_data.columns.values, [False, False, False, False, False]))\n",
    "iris_data.attrs"
   ]
  },
  {
   "cell_type": "code",
   "execution_count": 63,
   "metadata": {},
   "outputs": [
    {
     "name": "stdout",
     "output_type": "stream",
     "text": [
      "0.8587587025457097\n",
      "[0.244      1.32307692 2.05833333]\n",
      "[0.83384214 0.8587587  0.74498711 0.72661841]\n"
     ]
    }
   ],
   "source": [
    "class Kmeans1d():\n",
    "    def __init__(self, epsilon=1e-2, max_step=20):\n",
    "        self.stop_epsilon = epsilon\n",
    "        self.MAX_STEP = max_step\n",
    "    \n",
    "    def fit(self, data: np.ndarray, k):\n",
    "        assert len(data.shape) == 1, \"The input data of Kmeans1d should be 1 dim\"\n",
    "        # initialization\n",
    "        low_boundary = np.min(data)\n",
    "        up_boundary = np.max(data)\n",
    "        # randomly generate k points as initial center for each class\n",
    "        center_points = low_boundary + (up_boundary-low_boundary)*np.random.rand(k)\n",
    "        center_points = np.sort(center_points)\n",
    "        center_points_last = np.ones(k)*np.inf\n",
    "        record = pd.DataFrame({'data': data, 'cluster': np.zeros(data.shape)})\n",
    "        \n",
    "        cnt = 0\n",
    "        while not self.stopping_condition(center_points, center_points_last) and cnt<self.MAX_STEP:\n",
    "            cnt = cnt + 1\n",
    "            center_points_last = center_points\n",
    "            # step1: with fixed center points, cluster the samples\n",
    "            for i, sample in enumerate(data):\n",
    "                cluster_class = np.argmin(self.squaredEuclideanDistance(center_points, sample))\n",
    "                record.iloc[i, 1] = np.int16(cluster_class)\n",
    "            \n",
    "            # step2: compute new center for each class\n",
    "            for idx, center in enumerate(center_points_last):\n",
    "                record_filtered = record.query(\"cluster==@idx\")\n",
    "                if record_filtered.empty:\n",
    "                    new_center = center\n",
    "                else:\n",
    "                    new_center = record_filtered['data'].mean()\n",
    "                center_points[idx] = new_center\n",
    "        return center_points, record\n",
    "    \n",
    "    def stopping_condition(self, points, points_last):\n",
    "        distance = self.squaredEuclideanDistance(points, points_last)\n",
    "        if np.all(distance < self.stop_epsilon):\n",
    "            return True \n",
    "        else:\n",
    "            return False\n",
    "    \n",
    "    def auto_fit(self, data:np.ndarray, max_k=5, max_each=5):\n",
    "        best_k = 0\n",
    "        best_score = -np.inf\n",
    "        best_cps = None # cps: center points\n",
    "        best_rcd = None # rcd: record\n",
    "        all_score = np.zeros(max_k-1)\n",
    "        for i in np.arange(2, max_k+1):\n",
    "            best_score_for_this_k = -np.inf\n",
    "            best_rcd_for_this_k = None \n",
    "            best_cps_for_this_k = None\n",
    "            for j in np.arange(2, max_each+1):\n",
    "                # print(f\"Trying k={i} for the {j}th time\")\n",
    "                cps, rcd = self.fit(data, k=i)\n",
    "                score = self.silhouette(rcd)\n",
    "                if score > best_score_for_this_k:\n",
    "                    best_score_for_this_k = score\n",
    "                    best_rcd_for_this_k = rcd\n",
    "                    best_cps_for_this_k = cps\n",
    "            all_score[i-2] = best_score_for_this_k\n",
    "            if best_score_for_this_k > best_score:\n",
    "                best_score = best_score_for_this_k\n",
    "                best_cps = best_cps_for_this_k\n",
    "                best_rcd = best_rcd_for_this_k\n",
    "        \n",
    "        return best_score, best_cps, best_rcd, all_score\n",
    "        \n",
    "    @staticmethod\n",
    "    def squaredEuclideanDistance(x1, x2):\n",
    "        return np.square(x1-x2)\n",
    "\n",
    "    @staticmethod\n",
    "    def silhouette(data:pd.DataFrame):\n",
    "        clusters = np.sort(data['cluster'].unique())\n",
    "        a = np.zeros(data['data'].count())\n",
    "        b = np.zeros(data['data'].count())\n",
    "        s = np.zeros(data['data'].count())\n",
    "        for i, sample in enumerate(data.values):\n",
    "            num = sample[0]\n",
    "            cls = sample[1]\n",
    "            \n",
    "            # compute a(i)\n",
    "            # a measure of how well i is assigned to its cluster \n",
    "            # (the smaller the value, the better the assignment).\n",
    "            a_mask = np.int8(data['cluster'].values == cls)\n",
    "            a_mask_sum = a_mask.sum()\n",
    "            distance_to_all = Kmeans1d.squaredEuclideanDistance(num, data['data'].values)\n",
    "            if a_mask_sum == 1:\n",
    "                a[i] = 0\n",
    "            elif a_mask_sum <= 0:\n",
    "                raise ValueError(\"Cannot find sample with this class. Something wrong happened\")\n",
    "            else:\n",
    "                a[i] = np.dot(distance_to_all, a_mask) / (a_mask_sum-1)\n",
    "                \n",
    "            # compute b(i)\n",
    "            b_min = np.inf\n",
    "            for c in clusters:\n",
    "                if c == cls:\n",
    "                    continue\n",
    "                b_mask = np.int8(data['cluster'].values == c)\n",
    "                assert b_mask.sum()>0, \"Something wrong happened\"\n",
    "                temp_b = np.dot(distance_to_all, b_mask) / b_mask.sum()\n",
    "                if temp_b < b_min:\n",
    "                    b_min = temp_b\n",
    "            b[i] = b_min\n",
    "            \n",
    "            if b[i] == np.inf:\n",
    "                print(data)\n",
    "                raise ValueError(f\"WTF, b_min={b_min}\")\n",
    "            \n",
    "            # compute s(i)\n",
    "            if a_mask_sum > 1:\n",
    "                try:\n",
    "                    s[i] = 1.*(b[i]-a[i]) / np.max([a[i], b[i]])\n",
    "                except RuntimeWarning:\n",
    "                    print(f\"Something wrong happened, a={a[i]}, b={b[i]}\")\n",
    "            else:\n",
    "                s[i] = 0\n",
    "            \n",
    "        # Thus the mean s(i) over all data of the entire dataset is a measure of \n",
    "        # how appropriately the data have been clustered.\n",
    "        return np.mean(s)\n",
    "    \n",
    "    @staticmethod\n",
    "    def get_dividing_points(center_points):\n",
    "        assert type(center_points) is np.ndarray\n",
    "        cps = np.sort(center_points)\n",
    "        dividing_points = (cps[:-1] + cps[1:]) / 2.0 \n",
    "        dividing_points = np.insert(dividing_points, \n",
    "                                    [0, dividing_points.size], \n",
    "                                    [-np.inf, np.inf], \n",
    "                                    axis=0)\n",
    "        return dividing_points\n",
    "\n",
    "kk = Kmeans1d()\n",
    "# cps, rcd = kk.fit(iris_data['petal length'].values, k=5)\n",
    "best_score, best_cps, best_rcd, all_score = \\\n",
    "                kk.auto_fit(iris_data['petal width'].values, max_k=5, max_each=8)\n",
    "print(best_score)\n",
    "print(best_cps)\n",
    "print(all_score)"
   ]
  },
  {
   "cell_type": "code",
   "execution_count": 64,
   "metadata": {},
   "outputs": [
    {
     "name": "stdout",
     "output_type": "stream",
     "text": [
      "Attribute sepal length has been discretized\n",
      "Attribute sepal width has been discretized\n",
      "Attribute petal length has been discretized\n",
      "Attribute petal width has been discretized\n"
     ]
    },
    {
     "data": {
      "text/plain": [
       "{'sepal length': array([      -inf, 5.97344815,        inf]),\n",
       " 'sepal width': array([      -inf, 2.61780428, 3.07032844, 3.55895692,        inf]),\n",
       " 'petal length': array([      -inf, 3.31110048,        inf]),\n",
       " 'petal width': array([      -inf, 0.79051852, 1.70547504,        inf])}"
      ]
     },
     "execution_count": 64,
     "metadata": {},
     "output_type": "execute_result"
    }
   ],
   "source": [
    "def preprocess(data:pd.DataFrame, max_k=5, max_each=8):\n",
    "    cols = data.columns.values[:-1] # except the last one\n",
    "    dividing_points_dict = {}\n",
    "    kmeans = Kmeans1d()\n",
    "    for col in cols:\n",
    "        # discrete = self.check_discrete(data, col)\n",
    "        discrete = False\n",
    "        if not discrete:\n",
    "            # apply kmeans to continuous data\n",
    "            best_score, best_cps, best_rcd, all_score = \\\n",
    "                kmeans.auto_fit(data[col].values, max_k=max_k, max_each=max_each)\n",
    "            dividing_points = kmeans.get_dividing_points(best_cps)\n",
    "            dividing_points_dict[col] = dividing_points\n",
    "            print(f\"Attribute {col} has been discretized\")\n",
    "    return dividing_points_dict\n",
    "\n",
    "dividing_points_dict = preprocess(iris_data)\n",
    "dividing_points_dict"
   ]
  },
  {
   "cell_type": "code",
   "execution_count": 58,
   "metadata": {},
   "outputs": [
    {
     "data": {
      "text/plain": [
       "array([5.1, 4.9, 4.7, 4.6, 5. , 5.4, 4.6, 5. , 4.4, 4.9, 5.4, 4.8, 4.8,\n",
       "       4.3, 5.8, 5.7, 5.4, 5.1, 5.7, 5.1, 5.4, 5.1, 4.6, 5.1, 4.8, 5. ,\n",
       "       5. , 5.2, 5.2, 4.7, 4.8, 5.4, 5.2, 5.5, 4.9, 5. , 5.5, 4.9, 4.4,\n",
       "       5.1, 5. , 4.5, 4.4, 5. , 5.1, 4.8, 5.1, 4.6, 5.3, 5. , 7. , 6.4,\n",
       "       6.9, 5.5, 6.5, 5.7, 6.3, 4.9, 6.6, 5.2, 5. , 5.9, 6. , 6.1, 5.6,\n",
       "       6.7, 5.6, 5.8, 6.2, 5.6, 5.9, 6.1, 6.3, 6.1, 6.4, 6.6, 6.8, 6.7,\n",
       "       6. , 5.7, 5.5, 5.5, 5.8, 6. , 5.4, 6. , 6.7, 6.3, 5.6, 5.5, 5.5,\n",
       "       6.1, 5.8, 5. , 5.6, 5.7, 5.7, 6.2, 5.1, 5.7, 6.3, 5.8, 7.1, 6.3,\n",
       "       6.5, 7.6, 4.9, 7.3, 6.7, 7.2, 6.5, 6.4, 6.8, 5.7, 5.8, 6.4, 6.5,\n",
       "       7.7, 7.7, 6. , 6.9, 5.6, 7.7, 6.3, 6.7, 7.2, 6.2, 6.1, 6.4, 7.2,\n",
       "       7.4, 7.9, 6.4, 6.3, 6.1, 7.7, 6.3, 6.4, 6. , 6.9, 6.7, 6.9, 5.8,\n",
       "       6.8, 6.7, 6.7, 6.3, 6.5, 6.2, 5.9])"
      ]
     },
     "execution_count": 58,
     "metadata": {},
     "output_type": "execute_result"
    }
   ],
   "source": [
    "iris_data['sepal length'].values"
   ]
  },
  {
   "cell_type": "code",
   "execution_count": 65,
   "metadata": {},
   "outputs": [
    {
     "data": {
      "text/plain": [
       "array([0, 0, 0, 0, 0, 0, 0, 0, 0, 0, 0, 0, 0, 0, 0, 0, 0, 0, 0, 0, 0, 0,\n",
       "       0, 0, 0, 0, 0, 0, 0, 0, 0, 0, 0, 0, 0, 0, 0, 0, 0, 0, 0, 0, 0, 0,\n",
       "       0, 0, 0, 0, 0, 0, 1, 1, 1, 0, 1, 0, 1, 0, 1, 0, 0, 0, 1, 1, 0, 1,\n",
       "       0, 0, 1, 0, 0, 1, 1, 1, 1, 1, 1, 1, 1, 0, 0, 0, 0, 1, 0, 1, 1, 1,\n",
       "       0, 0, 0, 1, 0, 0, 0, 0, 0, 1, 0, 0, 1, 0, 1, 1, 1, 1, 0, 1, 1, 1,\n",
       "       1, 1, 1, 0, 0, 1, 1, 1, 1, 1, 1, 0, 1, 1, 1, 1, 1, 1, 1, 1, 1, 1,\n",
       "       1, 1, 1, 1, 1, 1, 1, 1, 1, 1, 0, 1, 1, 1, 1, 1, 1, 0], dtype=int64)"
      ]
     },
     "execution_count": 65,
     "metadata": {},
     "output_type": "execute_result"
    }
   ],
   "source": [
    "np.digitize(iris_data['sepal length'].values, dividing_points_dict['sepal length'])-1"
   ]
  },
  {
   "cell_type": "code",
   "execution_count": null,
   "metadata": {},
   "outputs": [],
   "source": []
  },
  {
   "cell_type": "code",
   "execution_count": 85,
   "metadata": {},
   "outputs": [
    {
     "name": "stdout",
     "output_type": "stream",
     "text": [
      "Attribute sepal_length has been discretized\n",
      "Attribute sepal_width has been discretized\n",
      "Attribute petal_length has been discretized\n",
      "Attribute petal_width has been discretized\n",
      "graph LR\n",
      "root--root-->a(petal width)\n",
      "a(petal width)--petal_width<= 0.9600-->a0(Iris-setosa)\n",
      "a(petal width)--petal_width> 0.9600-->a1(sepal length)\n",
      "a1(sepal length)--sepal_length<= 5.8251-->a10(sepal width)\n",
      "a10(sepal width)--sepal_width<= 3.2179-->a100(petal length)\n",
      "a100(petal length)--petal_length<= 3.1850-->a1000(Iris-versicolor)\n",
      "a100(petal length)--petal_length> 3.1850-->a1001(Iris-versicolor)\n",
      "a1(sepal length)--sepal_length> 5.8251-->a11(sepal width)\n",
      "a11(sepal width)--sepal_width<= 3.2179-->a110(petal length)\n",
      "a110(petal length)--petal_length> 3.1850-->a1100(Iris-virginica)\n",
      "a11(sepal width)--sepal_width> 3.2179-->a111(petal length)\n",
      "a111(petal length)--petal_length> 3.1850-->a1110(Iris-virginica)\n",
      "\n"
     ]
    }
   ],
   "source": [
    "class Node():\n",
    "    def __init__(self, label=None, parent=None, children=None):\n",
    "        self.parent = parent\n",
    "        self.children = children\n",
    "        self.label = label  \n",
    "        self.leaf_label = None\n",
    "        self.test_cond = None   # test condition of each internal node is here\n",
    "                                # list of str (used in pd.DataFrame.query)\n",
    "    \n",
    "    def __str__(self, level=0):\n",
    "        if not self.children:\n",
    "            ret = \"\\t\"*level + repr(self.leaf_label) + \"\\n\"\n",
    "        else:\n",
    "            ret = \"\\t\"*level + repr(self.label) + \"\\n\"\n",
    "        if self.children:\n",
    "            for child in self.children:\n",
    "                ret += child.__str__(level+1)\n",
    "        return ret\n",
    "    \n",
    "    def mermaid(self):\n",
    "        ss = self.gen_mermaid()\n",
    "        ss = 'graph LR\\nroot' + ss\n",
    "        return ss\n",
    "    \n",
    "    def gen_mermaid(self, prefix='a'):\n",
    "        if not self.children:\n",
    "            ret = \"--\" + self.label + \"-->\" + prefix + \"(\" + self.leaf_label + \")\\n\"\n",
    "        else:\n",
    "            cond = \" \".join(re.findall(\"[a-zA-Z]+\", self.test_cond[0]))\n",
    "            ret = \"--\" + self.label + \"-->\" + prefix + \"(\" + cond + \")\\n\" \n",
    "        if self.children:\n",
    "            for j, child in enumerate(self.children):\n",
    "                ret += prefix + \"(\"+cond+\")\"\n",
    "                ret += child.gen_mermaid(prefix+str(j))\n",
    "        return ret\n",
    "    \n",
    "    \n",
    "class DecisionTree():\n",
    "    def __init__(self, train_data: pd.DataFrame, \n",
    "                    mapping_dict = None,\n",
    "                    stop_threshold=1e-2):\n",
    "        self.stop_threshold = stop_threshold\n",
    "        self.mapping_dict = mapping_dict\n",
    "        # pd.DataFrame.attrs should contain whether each column is discrete or not\n",
    "        for c in train_data.columns.values:\n",
    "            if c not in train_data.attrs.keys():\n",
    "                raise ValueError(\"Input data (pd.DataFrame) should contain whether each column is discrete or not\")\n",
    "        # discretize the columns with continuous data\n",
    "        self.dividing_points_dict = self.preprocess(train_data)\n",
    "        \n",
    "        self.root = self.grow(train_data)\n",
    "        self.root.label = 'root'\n",
    "\n",
    "    def grow(self, data:pd.DataFrame):\n",
    "        if self.stopping_condition(data):\n",
    "            # finnally we reach the leaf\n",
    "            leaf = Node()\n",
    "            leaf.leaf_label = self.classify(data)\n",
    "            leaf.leaf_label = self.mapping_dict[leaf.leaf_label]\n",
    "            return leaf\n",
    "        else:\n",
    "            root = Node(label=None, children=list())\n",
    "            root.test_cond, attr = self.find_best_split(data)\n",
    "            for lb in root.test_cond:\n",
    "                assert type(lb) is str\n",
    "                sub_data = data.query(lb)\n",
    "                if sub_data.empty:\n",
    "                    continue\n",
    "                sub_data = sub_data.drop(columns=[attr])  # this attribute has been used this time\n",
    "                child = self.grow(sub_data)\n",
    "                child.parent = root\n",
    "                child.label = lb\n",
    "                root.children.append(child)\n",
    "        return root\n",
    "\n",
    "    def check_discrete(self, data: pd.DataFrame, col: str):\n",
    "        return data.attrs[col]\n",
    "\n",
    "    def stopping_condition(self, data:pd.DataFrame):\n",
    "        assert len(data.columns.values) > 0, \"Cannot find the label column\"\n",
    "        if len(data.columns.values) == 1:   # the last one column is the label of each sample\n",
    "            # all attributes have been used, thus stop\n",
    "            return True\n",
    "        if data.iloc[:,-1].nunique() == 1:\n",
    "            return True\n",
    "        max_info_gain, _, _ = self.find_largest_info_gain(data)\n",
    "        # print(max_info_gain)\n",
    "        if max_info_gain < self.stop_threshold:\n",
    "            return True\n",
    "        \n",
    "        return False\n",
    "\n",
    "    def find_best_split(self, data:pd.DataFrame):\n",
    "        # select the attribute with largest information gain\n",
    "        _, attr_with_max_info_gain, attr_discrete = self.find_largest_info_gain(data)\n",
    "        if attr_discrete:\n",
    "            # for example, if available values for attr 'A' is [0, 1 ,2], then cond = ['A==0', 'A==1', 'A==2']\n",
    "            cond = [attr_with_max_info_gain+'=='+str(i) for i in data[attr_with_max_info_gain].unique()]\n",
    "        else:\n",
    "            # raise ValueError(\"Continuous data is not available now\")\n",
    "            dividing_points = self.dividing_points_dict[attr_with_max_info_gain]\n",
    "            cond = []\n",
    "            for i in range(len(dividing_points)-1):\n",
    "                if dividing_points[i] == -np.inf:\n",
    "                    ss = attr_with_max_info_gain + \"<= %.4f\"%dividing_points[i+1]\n",
    "                    cond.append(ss)\n",
    "                elif dividing_points[i+1] == np.inf:\n",
    "                    ss = attr_with_max_info_gain + \"> %.4f\"%dividing_points[i]\n",
    "                    cond.append(ss)\n",
    "                else:\n",
    "                    ss = \"%.4f < \"%dividing_points[i] +  attr_with_max_info_gain + \"<= %.4f\"%dividing_points[i+1]\n",
    "\n",
    "        return cond, attr_with_max_info_gain\n",
    "    \n",
    "    def find_largest_info_gain(self, data:pd.DataFrame):\n",
    "        \"\"\" select the attribute with largest information gain\n",
    "\n",
    "        Args:\n",
    "            data (pd.DataFrame): data with label in the last column\n",
    "\n",
    "        Returns:\n",
    "            float: attr_with_max_info_gain, max_info_gain, attr_discrete\n",
    "        \"\"\"\n",
    "        max_info_gain = -np.inf\n",
    "        for col in data.columns.values[:-1]: # the last column is the label, thus ignore it\n",
    "            discrete = self.check_discrete(data, col)\n",
    "            if discrete:\n",
    "                info_gain = empiricalEntropy(data.iloc[:, -1]) - \\\n",
    "                            empiricalConditionalEntropy(label=data.iloc[:, -1], feature=data[col])\n",
    "            else:\n",
    "                col_feature = np.digitize(data[col].values, self.dividing_points_dict[col])-1\n",
    "                col_feature = pd.Series(col_feature)\n",
    "                info_gain = empiricalEntropy(data.iloc[:, -1]) - \\\n",
    "                            empiricalConditionalEntropy(label=data.iloc[:, -1], feature=col_feature)\n",
    "                \n",
    "            # get largest info gain\n",
    "            if info_gain > max_info_gain:\n",
    "                max_info_gain = info_gain\n",
    "                attr_with_max_info_gain = col\n",
    "                attr_discrete = discrete\n",
    "        return max_info_gain, attr_with_max_info_gain, attr_discrete\n",
    "        \n",
    "    \n",
    "    def classify(self, data:pd.DataFrame):\n",
    "        return data.iloc[:,-1].mode().values[0]\n",
    "    \n",
    "    \n",
    "    def preprocess(self, data:pd.DataFrame, max_k=5, max_each=8):\n",
    "        cols = data.columns.values[:-1] # except the last one\n",
    "        dividing_points_dict = {}\n",
    "        kmeans = Kmeans1d()\n",
    "        for col in cols:\n",
    "            discrete = self.check_discrete(data, col)\n",
    "            if not discrete:\n",
    "                # apply kmeans to continuous data\n",
    "                best_score, best_cps, best_rcd, all_score = \\\n",
    "                    kmeans.auto_fit(data[col].values, max_k=max_k, max_each=max_each)\n",
    "                dividing_points = kmeans.get_dividing_points(best_cps)\n",
    "                dividing_points_dict[col] = dividing_points\n",
    "                print(f\"Attribute {col} has been discretized\")\n",
    "        return dividing_points_dict\n",
    "            \n",
    "# # test discrete\n",
    "# dataframe = pd.read_csv('./test_data.csv', delimiter=',')\n",
    "# dataframe.attrs =dict(zip(dataframe.columns.values, [True, True, True, True, True]))\n",
    "# tree = DecisionTree(dataframe)\n",
    "# print(tree.root.mermaid())\n",
    "\n",
    "data_path = '.\\data\\iris.data'\n",
    "iris_raw_data = pd.read_csv(data_path, \n",
    "        names=['sepal_length', 'sepal_width', 'petal_length', 'petal_width', 'class'], \n",
    "        delimiter=',')\n",
    "iris_data = iris_raw_data.copy()\n",
    "iris_data['class'], mapping_dict= iris_raw_data['class'].factorize()\n",
    "iris_data.attrs =dict(zip(iris_data.columns.values, [False, False, False, False, False]))\n",
    "tree = DecisionTree(iris_data, mapping_dict)\n",
    "print(tree.root.mermaid())"
   ]
  },
  {
   "cell_type": "code",
   "execution_count": 78,
   "metadata": {},
   "outputs": [
    {
     "data": {
      "text/plain": [
       "'petal length'"
      ]
     },
     "execution_count": 78,
     "metadata": {},
     "output_type": "execute_result"
    }
   ],
   "source": [
    "import re\n",
    "st = \"petal_length<= 3.2097\"\n",
    "\" \".join(re.findall(\"[a-zA-Z]+\", st))"
   ]
  },
  {
   "cell_type": "markdown",
   "metadata": {},
   "source": [
    "   1. sepal length in cm\n",
    "   2. sepal width in cm\n",
    "   3. petal length in cm\n",
    "   4. petal width in cm\n",
    "   5. class: "
   ]
  },
  {
   "cell_type": "code",
   "execution_count": 390,
   "metadata": {},
   "outputs": [
    {
     "data": {
      "image/png": "[encoded data removed]",
      "text/plain": [
       "<Figure size 720x600 with 4 Axes>"
      ]
     },
     "metadata": {
      "needs_background": "light"
     },
     "output_type": "display_data"
    }
   ],
   "source": [
    "fig, axs = plt.subplots(2,2, figsize=(6, 5), dpi=120)\n",
    "bins = [12,10,10,10]\n",
    "for i in range(2):\n",
    "    for j in range(2):\n",
    "        ax = axs[i, j]\n",
    "        ax.hist(iris_data.iloc[:, i*2+j].values, bins=bins[i*2+j], linewidth=0.5, edgecolor=\"white\")\n",
    "plt.show()\n"
   ]
  },
  {
   "cell_type": "code",
   "execution_count": 382,
   "metadata": {},
   "outputs": [
    {
     "data": {
      "text/plain": [
       "array([0.493247, 1.209247])"
      ]
     },
     "execution_count": 382,
     "metadata": {},
     "output_type": "execute_result"
    }
   ],
   "source": [
    "kk.get_dividing_points(best_cps)"
   ]
  },
  {
   "cell_type": "code",
   "execution_count": 341,
   "metadata": {},
   "outputs": [
    {
     "data": {
      "text/html": [
       "<div>\n",
       "<style scoped>\n",
       "    .dataframe tbody tr th:only-of-type {\n",
       "        vertical-align: middle;\n",
       "    }\n",
       "\n",
       "    .dataframe tbody tr th {\n",
       "        vertical-align: top;\n",
       "    }\n",
       "\n",
       "    .dataframe thead th {\n",
       "        text-align: right;\n",
       "    }\n",
       "</style>\n",
       "<table border=\"1\" class=\"dataframe\">\n",
       "  <thead>\n",
       "    <tr style=\"text-align: right;\">\n",
       "      <th></th>\n",
       "      <th>data</th>\n",
       "    </tr>\n",
       "    <tr>\n",
       "      <th>cluster</th>\n",
       "      <th></th>\n",
       "    </tr>\n",
       "  </thead>\n",
       "  <tbody>\n",
       "    <tr>\n",
       "      <th>0.0</th>\n",
       "      <td>0.1</td>\n",
       "    </tr>\n",
       "    <tr>\n",
       "      <th>1.0</th>\n",
       "      <td>1.0</td>\n",
       "    </tr>\n",
       "    <tr>\n",
       "      <th>2.0</th>\n",
       "      <td>1.8</td>\n",
       "    </tr>\n",
       "  </tbody>\n",
       "</table>\n",
       "</div>"
      ],
      "text/plain": [
       "         data\n",
       "cluster      \n",
       "0.0       0.1\n",
       "1.0       1.0\n",
       "2.0       1.8"
      ]
     },
     "execution_count": 341,
     "metadata": {},
     "output_type": "execute_result"
    }
   ],
   "source": [
    "# record.groupby(['cluster']).min()"
   ]
  },
  {
   "cell_type": "markdown",
   "metadata": {},
   "source": [
    "The silhouette value is a measure of how similar an object is to its own cluster (cohesion) compared to other clusters (separation). The silhouette ranges from −1 to +1, where a high value indicates that the object is well matched to its own cluster and poorly matched to neighboring clusters. If most objects have a high value, then the clustering configuration is appropriate. If many points have a low or negative value, then the clustering configuration may have too many or too few clusters.\n",
    "\n",
    "Reference: \n",
    "\n",
    "[Silhouette](https://en.wikipedia.org/wiki/Silhouette_(clustering))\n"
   ]
  },
  {
   "cell_type": "code",
   "execution_count": 384,
   "metadata": {},
   "outputs": [
    {
     "name": "stdout",
     "output_type": "stream",
     "text": [
      "1.24\n"
     ]
    }
   ],
   "source": [
    "a = 1.235466312\n",
    "s = \"%.2f\" % a\n",
    "print(s)"
   ]
  }
 ],
 "metadata": {
  "kernelspec": {
   "display_name": "Python 3.7.11 ('torchCPU')",
   "language": "python",
   "name": "python3"
  },
  "language_info": {
   "codemirror_mode": {
    "name": "ipython",
    "version": 3
   },
   "file_extension": ".py",
   "mimetype": "text/x-python",
   "name": "python",
   "nbconvert_exporter": "python",
   "pygments_lexer": "ipython3",
   "version": "3.7.11"
  },
  "orig_nbformat": 4,
  "vscode": {
   "interpreter": {
    "hash": "3503c772228f865e9046df7a3dbfa9a4744f3356461e8184ac67bd899f2dd09f"
   }
  }
 },
 "nbformat": 4,
 "nbformat_minor": 2
}
