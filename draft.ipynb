{
 "cells": [
  {
   "cell_type": "code",
   "execution_count": 2,
   "metadata": {},
   "outputs": [],
   "source": [
    "import numpy as np\n",
    "import pandas as pd\n",
    "import matplotlib.pyplot as plt"
   ]
  },
  {
   "cell_type": "code",
   "execution_count": 3,
   "metadata": {},
   "outputs": [
    {
     "data": {
      "image/png": "[encoded data removed]",
      "text/plain": [
       "<Figure size 432x288 with 1 Axes>"
      ]
     },
     "metadata": {
      "needs_background": "light"
     },
     "output_type": "display_data"
    }
   ],
   "source": [
    "def entropy(pmf, epsilon=1e-4):\n",
    "    try:\n",
    "        pmf = np.array(pmf)\n",
    "        mask = pmf>epsilon\n",
    "        pmf = pmf[mask]  # 0log0 = 0\n",
    "        return -1.0 * np.dot(pmf, np.log2(pmf))\n",
    "    except TypeError as te:\n",
    "        print(pmf, \"is not iterable\")\n",
    "\n",
    "a = np.linspace(0, 1, 100)\n",
    "b = np.zeros(a.shape)\n",
    "for i, e in enumerate(a):\n",
    "    b[i] = entropy([e, 1-e])\n",
    "fig = plt.figure()\n",
    "plt.plot(a, b)\n",
    "plt.show()\n",
    "\n",
    "def conditionalEntropy(cond_p, pmfs):\n",
    "    assert len(cond_p) == len(pmfs)\n",
    "    result = 0\n",
    "    for i, p in enumerate(cond_p):\n",
    "        result += p*entropy(pmfs[i, :])\n",
    "    return result\n",
    "    \n",
    "\n",
    "def empiricalEntropy(label: pd.Series):\n",
    "    pmf = label.value_counts().values / label.count()\n",
    "    return entropy(pmf)\n",
    "\n",
    "def empiricalConditionalEntropy(label: pd.Series, feature: pd.Series):\n",
    "    assert label.count() == feature.count(), \\\n",
    "        \"The length of label and feature should be the same when computing empirical conditional entropy\"\n",
    "    df = pd.DataFrame({'label':label, 'feature': feature})\n",
    "    feature_values = feature.unique()  # get all distinct feature values\n",
    "    result = 0\n",
    "    for i, value in enumerate(feature_values):\n",
    "        df_filtered = df.query('feature==@value')   # filter by feature value\n",
    "        label_filtered = df_filtered['label']\n",
    "        ee = empiricalEntropy(label_filtered)\n",
    "        cond_p = feature.value_counts()[value]/feature.count()\n",
    "        result += cond_p*ee\n",
    "    return result"
   ]
  },
  {
   "cell_type": "code",
   "execution_count": 61,
   "metadata": {},
   "outputs": [
    {
     "data": {
      "text/plain": [
       "1.8556342202627085"
      ]
     },
     "execution_count": 61,
     "metadata": {},
     "output_type": "execute_result"
    }
   ],
   "source": [
    "df = pd.DataFrame(np.random.randint(0, [4,2,3,3], size=(30, 4)), \n",
    "                columns=['attr0', 'attr1', 'attr2', 'attr3'])\n",
    "ss = df['attr0']\n",
    "pmf = ss.value_counts().values/ss.count()\n",
    "\n",
    "empiricalEntropy(ss)"
   ]
  },
  {
   "cell_type": "code",
   "execution_count": 121,
   "metadata": {},
   "outputs": [
    {
     "data": {
      "text/plain": [
       "0.6079610319175832"
      ]
     },
     "execution_count": 121,
     "metadata": {},
     "output_type": "execute_result"
    }
   ],
   "source": [
    "df = pd.read_csv('./test_data.csv', delimiter='\\t')\n",
    "label = df['type']\n",
    "empiricalEntropy(label)\n",
    "empiricalConditionalEntropy(label=df['type'], feature=df['age'])\n",
    "empiricalEntropy(label) - empiricalConditionalEntropy(label=df['type'], feature=df['work'])\n",
    "empiricalEntropy(label) - empiricalConditionalEntropy(label=df['type'], feature=df['house'])\n",
    "empiricalConditionalEntropy(label=df['type'], feature=df['credit'])"
   ]
  },
  {
   "cell_type": "code",
   "execution_count": 128,
   "metadata": {},
   "outputs": [
    {
     "data": {
      "text/plain": [
       "array(['age', 'work', 'house', 'credit'], dtype=object)"
      ]
     },
     "execution_count": 128,
     "metadata": {},
     "output_type": "execute_result"
    }
   ],
   "source": [
    "np.delete(df.columns.values, -1)"
   ]
  },
  {
   "cell_type": "code",
   "execution_count": 4,
   "metadata": {},
   "outputs": [],
   "source": [
    "class Node():\n",
    "    def __init__(self, label, parent=None, children=[]):\n",
    "        self.parent = parent\n",
    "        self.children = children\n",
    "        self.label = label  # test condition of each internal node is here\n",
    "                            # list of str (used in pd.DataFrame.query)\n",
    "\n",
    "    \n",
    "class DecisionTree():\n",
    "    def __init__(self, train_data: pd.DataFrame):\n",
    "        \"\"\"\n",
    "            the last colum of train_data is the label\n",
    "        \"\"\"\n",
    "        self.df = train_data\n",
    "        self.features = np.delete(df.columns.values, -1) # get the features from all columns except the last one\n",
    "        self.root_node = Node('root', parent=None, children=[])\n",
    "\n",
    "\n",
    "    def grow(self, data:pd.DataFrame):\n",
    "        if self.stopping_condition(data):\n",
    "            # finnally we reach the leaf\n",
    "            leaf = Node(None, parent=None, children=[])\n",
    "            leaf.label = self.classify()\n",
    "            return leaf\n",
    "        else:\n",
    "            root = Node(label=None)\n",
    "            root.label, attr = self.find_best_split(data)\n",
    "            for lb in root.label:\n",
    "                assert type(lb) is str\n",
    "                sub_data = data.query(lb)\n",
    "                sub_data.drop(columns=[attr])  # this attribute has been used this time\n",
    "                child = self.grow(sub_data)\n",
    "                child.parent = root\n",
    "                root.children.append(child)\n",
    "        return root\n",
    "\n",
    "    @staticmethod\n",
    "    def check_discrete(data: pd.Series, epsilon=0.5):\n",
    "        return ( 1.*data.nunique()/data.count() ) < epsilon\n",
    "\n",
    "    def stopping_condition(self, data:pd.DataFrame, threshold=1e-4):\n",
    "        assert len(data.columns.values) > 0, \"Cannot find the label column\"\n",
    "        if len(data.columns.values) == 1:   # the last one column is the label of each sample\n",
    "            # all attributes have been used, thus stop\n",
    "            return True\n",
    "        if len(data.columns.values) == 2:\n",
    "            # the infomation gain of the only attribute is less than the threshold\n",
    "            discrete = self.check_discrete(df.iloc[:, 0])\n",
    "            if discrete:\n",
    "                info_gain = empiricalEntropy(df.iloc[:, 0]) - \\\n",
    "                            empiricalConditionalEntropy(label=df.iloc[:, -1], feature=df.iloc[:, 0])\n",
    "            else:\n",
    "                raise ValueError(\"Continuous data is not available now\")\n",
    "            if info_gain < threshold:\n",
    "                return True\n",
    "        return False\n",
    "\n",
    "    def find_best_split(self, data:pd.DataFrame):\n",
    "        # select the attribute with largest information gain\n",
    "        max_info_gain = -np.inf\n",
    "        for col in data.columns:\n",
    "            discrete = self.check_discrete(data[col])\n",
    "            if discrete:\n",
    "                info_gain = empiricalEntropy(df[col]) - \\\n",
    "                            empiricalConditionalEntropy(label=df.iloc[:, -1], feature=df[col])\n",
    "            else:\n",
    "                raise ValueError(\"Continuous data is not available now\")\n",
    "            # get largest info gain\n",
    "            if info_gain > max_info_gain:\n",
    "                max_info_gain = info_gain\n",
    "                attr_with_max_info_gain = col\n",
    "                attr_discrete = discrete\n",
    "        if attr_discrete:\n",
    "            \"\"\"\n",
    "                for example, if available values for attr 'A' is [0, 1 ,2]\n",
    "                then, cond = ['A==0', 'A==1', 'A==2']\n",
    "            \"\"\"\n",
    "            cond = [attr_with_max_info_gain+'=='+str(i) for i in df[attr_with_max_info_gain].unique()]\n",
    "        else:\n",
    "            raise ValueError(\"Continuous data is not available now\")\n",
    " \n",
    "        return cond\n",
    "        \n",
    "        \n",
    "    def classify(self, data:pd.DataFrame):\n",
    "        pass\n",
    "\n",
    "    "
   ]
  },
  {
   "cell_type": "code",
   "execution_count": 36,
   "metadata": {},
   "outputs": [
    {
     "data": {
      "text/html": [
       "<div>\n",
       "<style scoped>\n",
       "    .dataframe tbody tr th:only-of-type {\n",
       "        vertical-align: middle;\n",
       "    }\n",
       "\n",
       "    .dataframe tbody tr th {\n",
       "        vertical-align: top;\n",
       "    }\n",
       "\n",
       "    .dataframe thead th {\n",
       "        text-align: right;\n",
       "    }\n",
       "</style>\n",
       "<table border=\"1\" class=\"dataframe\">\n",
       "  <thead>\n",
       "    <tr style=\"text-align: right;\">\n",
       "      <th></th>\n",
       "      <th>age</th>\n",
       "      <th>work</th>\n",
       "      <th>house</th>\n",
       "      <th>credit</th>\n",
       "      <th>type</th>\n",
       "      <th>test</th>\n",
       "    </tr>\n",
       "  </thead>\n",
       "  <tbody>\n",
       "    <tr>\n",
       "      <th>0</th>\n",
       "      <td>0.0</td>\n",
       "      <td>0.0</td>\n",
       "      <td>0.0</td>\n",
       "      <td>0.0</td>\n",
       "      <td>0.0</td>\n",
       "      <td>0.3</td>\n",
       "    </tr>\n",
       "    <tr>\n",
       "      <th>1</th>\n",
       "      <td>0.0</td>\n",
       "      <td>0.0</td>\n",
       "      <td>0.0</td>\n",
       "      <td>1.0</td>\n",
       "      <td>0.0</td>\n",
       "      <td>0.6</td>\n",
       "    </tr>\n",
       "    <tr>\n",
       "      <th>2</th>\n",
       "      <td>0.0</td>\n",
       "      <td>1.0</td>\n",
       "      <td>0.0</td>\n",
       "      <td>1.0</td>\n",
       "      <td>1.0</td>\n",
       "      <td>0.9</td>\n",
       "    </tr>\n",
       "    <tr>\n",
       "      <th>3</th>\n",
       "      <td>0.0</td>\n",
       "      <td>1.0</td>\n",
       "      <td>1.0</td>\n",
       "      <td>0.0</td>\n",
       "      <td>1.0</td>\n",
       "      <td>1.2</td>\n",
       "    </tr>\n",
       "    <tr>\n",
       "      <th>4</th>\n",
       "      <td>0.0</td>\n",
       "      <td>0.0</td>\n",
       "      <td>0.0</td>\n",
       "      <td>0.0</td>\n",
       "      <td>0.0</td>\n",
       "      <td>1.5</td>\n",
       "    </tr>\n",
       "    <tr>\n",
       "      <th>5</th>\n",
       "      <td>1.0</td>\n",
       "      <td>0.0</td>\n",
       "      <td>0.0</td>\n",
       "      <td>0.0</td>\n",
       "      <td>0.0</td>\n",
       "      <td>1.8</td>\n",
       "    </tr>\n",
       "    <tr>\n",
       "      <th>6</th>\n",
       "      <td>1.0</td>\n",
       "      <td>0.0</td>\n",
       "      <td>0.0</td>\n",
       "      <td>1.0</td>\n",
       "      <td>0.0</td>\n",
       "      <td>2.1</td>\n",
       "    </tr>\n",
       "    <tr>\n",
       "      <th>7</th>\n",
       "      <td>1.0</td>\n",
       "      <td>1.0</td>\n",
       "      <td>1.0</td>\n",
       "      <td>1.0</td>\n",
       "      <td>1.0</td>\n",
       "      <td>2.4</td>\n",
       "    </tr>\n",
       "    <tr>\n",
       "      <th>8</th>\n",
       "      <td>1.0</td>\n",
       "      <td>0.0</td>\n",
       "      <td>1.0</td>\n",
       "      <td>2.0</td>\n",
       "      <td>1.0</td>\n",
       "      <td>2.7</td>\n",
       "    </tr>\n",
       "    <tr>\n",
       "      <th>9</th>\n",
       "      <td>1.0</td>\n",
       "      <td>0.0</td>\n",
       "      <td>1.0</td>\n",
       "      <td>2.0</td>\n",
       "      <td>1.0</td>\n",
       "      <td>3.0</td>\n",
       "    </tr>\n",
       "    <tr>\n",
       "      <th>10</th>\n",
       "      <td>2.0</td>\n",
       "      <td>0.0</td>\n",
       "      <td>1.0</td>\n",
       "      <td>2.0</td>\n",
       "      <td>1.0</td>\n",
       "      <td>3.3</td>\n",
       "    </tr>\n",
       "    <tr>\n",
       "      <th>11</th>\n",
       "      <td>2.0</td>\n",
       "      <td>0.0</td>\n",
       "      <td>1.0</td>\n",
       "      <td>1.0</td>\n",
       "      <td>1.0</td>\n",
       "      <td>3.6</td>\n",
       "    </tr>\n",
       "    <tr>\n",
       "      <th>12</th>\n",
       "      <td>2.0</td>\n",
       "      <td>1.0</td>\n",
       "      <td>0.0</td>\n",
       "      <td>1.0</td>\n",
       "      <td>1.0</td>\n",
       "      <td>3.9</td>\n",
       "    </tr>\n",
       "    <tr>\n",
       "      <th>13</th>\n",
       "      <td>2.0</td>\n",
       "      <td>1.0</td>\n",
       "      <td>0.0</td>\n",
       "      <td>2.0</td>\n",
       "      <td>1.0</td>\n",
       "      <td>4.2</td>\n",
       "    </tr>\n",
       "    <tr>\n",
       "      <th>14</th>\n",
       "      <td>2.0</td>\n",
       "      <td>0.0</td>\n",
       "      <td>0.0</td>\n",
       "      <td>0.0</td>\n",
       "      <td>0.0</td>\n",
       "      <td>4.5</td>\n",
       "    </tr>\n",
       "  </tbody>\n",
       "</table>\n",
       "</div>"
      ],
      "text/plain": [
       "    age  work  house  credit  type  test\n",
       "0   0.0   0.0    0.0     0.0   0.0   0.3\n",
       "1   0.0   0.0    0.0     1.0   0.0   0.6\n",
       "2   0.0   1.0    0.0     1.0   1.0   0.9\n",
       "3   0.0   1.0    1.0     0.0   1.0   1.2\n",
       "4   0.0   0.0    0.0     0.0   0.0   1.5\n",
       "5   1.0   0.0    0.0     0.0   0.0   1.8\n",
       "6   1.0   0.0    0.0     1.0   0.0   2.1\n",
       "7   1.0   1.0    1.0     1.0   1.0   2.4\n",
       "8   1.0   0.0    1.0     2.0   1.0   2.7\n",
       "9   1.0   0.0    1.0     2.0   1.0   3.0\n",
       "10  2.0   0.0    1.0     2.0   1.0   3.3\n",
       "11  2.0   0.0    1.0     1.0   1.0   3.6\n",
       "12  2.0   1.0    0.0     1.0   1.0   3.9\n",
       "13  2.0   1.0    0.0     2.0   1.0   4.2\n",
       "14  2.0   0.0    0.0     0.0   0.0   4.5"
      ]
     },
     "execution_count": 36,
     "metadata": {},
     "output_type": "execute_result"
    }
   ],
   "source": [
    "df = pd.read_csv('./test_data.csv', delimiter=',')\n",
    "df"
   ]
  },
  {
   "cell_type": "code",
   "execution_count": 44,
   "metadata": {},
   "outputs": [
    {
     "data": {
      "text/plain": [
       "['credit==0.0', 'credit==1.0', 'credit==2.0']"
      ]
     },
     "execution_count": 44,
     "metadata": {},
     "output_type": "execute_result"
    }
   ],
   "source": [
    "aa = df['credit']\n",
    "col = 'credit'\n",
    "cond = [col+'=='+str(i) for i in aa.unique()]\n",
    "cond"
   ]
  },
  {
   "cell_type": "code",
   "execution_count": 59,
   "metadata": {},
   "outputs": [
    {
     "data": {
      "text/plain": [
       "True"
      ]
     },
     "execution_count": 59,
     "metadata": {},
     "output_type": "execute_result"
    }
   ],
   "source": [
    "df = pd.DataFrame(np.random.randint(0, 10, [10,1]))\n",
    "d = df.drop(columns=0)\n",
    "len(d.columns.values) == 0"
   ]
  },
  {
   "cell_type": "code",
   "execution_count": 60,
   "metadata": {},
   "outputs": [
    {
     "name": "stdout",
     "output_type": "stream",
     "text": [
      "3\n"
     ]
    }
   ],
   "source": [
    "class A():\n",
    "    def __init__(self):\n",
    "        pass \n",
    "    def __call__(self, a):\n",
    "        print(a)\n",
    "dd = A()\n",
    "dd(3)"
   ]
  }
 ],
 "metadata": {
  "interpreter": {
   "hash": "3503c772228f865e9046df7a3dbfa9a4744f3356461e8184ac67bd899f2dd09f"
  },
  "kernelspec": {
   "display_name": "Python 3.7.11 ('torchCPU')",
   "language": "python",
   "name": "python3"
  },
  "language_info": {
   "codemirror_mode": {
    "name": "ipython",
    "version": 3
   },
   "file_extension": ".py",
   "mimetype": "text/x-python",
   "name": "python",
   "nbconvert_exporter": "python",
   "pygments_lexer": "ipython3",
   "version": "3.7.11"
  },
  "orig_nbformat": 4
 },
 "nbformat": 4,
 "nbformat_minor": 2
}
